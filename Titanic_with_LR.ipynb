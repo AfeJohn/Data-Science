{
  "nbformat": 4,
  "nbformat_minor": 0,
  "metadata": {
    "colab": {
      "provenance": [],
      "collapsed_sections": []
    },
    "kernelspec": {
      "name": "python3",
      "display_name": "Python 3"
    },
    "language_info": {
      "name": "python"
    }
  },
  "cells": [
    {
      "cell_type": "code",
      "execution_count": 1,
      "metadata": {
        "id": "7mXLAQbxi24c"
      },
      "outputs": [],
      "source": [
        "#importing the required libraries\n",
        "import pandas as pd\n",
        "import numpy as np\n",
        "import matplotlib.pyplot as plt\n",
        "from sklearn.metrics import r2_score, mean_squared_error\n",
        "from sklearn.linear_model import LinearRegression\n",
        "\n",
        "%matplotlib inline"
      ]
    },
    {
      "cell_type": "code",
      "source": [
        "#Loading the train and test dataset\n",
        "train = pd.read_csv(\"train.csv\")\n",
        "test  = pd.read_csv(\"test.csv\")\n",
        "train.head(5)"
      ],
      "metadata": {
        "colab": {
          "base_uri": "https://localhost:8080/",
          "height": 250
        },
        "id": "iqJ0NxhYjBNM",
        "outputId": "c0856835-769e-4d9b-cd72-0556210fe47d"
      },
      "execution_count": 2,
      "outputs": [
        {
          "output_type": "execute_result",
          "data": {
            "text/plain": [
              "   PassengerId  Survived  Pclass  \\\n",
              "0            1         0       3   \n",
              "1            2         1       1   \n",
              "2            3         1       3   \n",
              "3            4         1       1   \n",
              "4            5         0       3   \n",
              "\n",
              "                                                Name     Sex   Age  SibSp  \\\n",
              "0                            Braund, Mr. Owen Harris    male  22.0      1   \n",
              "1  Cumings, Mrs. John Bradley (Florence Briggs Th...  female  38.0      1   \n",
              "2                             Heikkinen, Miss. Laina  female  26.0      0   \n",
              "3       Futrelle, Mrs. Jacques Heath (Lily May Peel)  female  35.0      1   \n",
              "4                           Allen, Mr. William Henry    male  35.0      0   \n",
              "\n",
              "   Parch            Ticket     Fare Cabin Embarked  \n",
              "0      0         A/5 21171   7.2500   NaN        S  \n",
              "1      0          PC 17599  71.2833   C85        C  \n",
              "2      0  STON/O2. 3101282   7.9250   NaN        S  \n",
              "3      0            113803  53.1000  C123        S  \n",
              "4      0            373450   8.0500   NaN        S  "
            ],
            "text/html": [
              "\n",
              "  <div id=\"df-64c61c3a-c503-4a65-8602-637df418d3a8\">\n",
              "    <div class=\"colab-df-container\">\n",
              "      <div>\n",
              "<style scoped>\n",
              "    .dataframe tbody tr th:only-of-type {\n",
              "        vertical-align: middle;\n",
              "    }\n",
              "\n",
              "    .dataframe tbody tr th {\n",
              "        vertical-align: top;\n",
              "    }\n",
              "\n",
              "    .dataframe thead th {\n",
              "        text-align: right;\n",
              "    }\n",
              "</style>\n",
              "<table border=\"1\" class=\"dataframe\">\n",
              "  <thead>\n",
              "    <tr style=\"text-align: right;\">\n",
              "      <th></th>\n",
              "      <th>PassengerId</th>\n",
              "      <th>Survived</th>\n",
              "      <th>Pclass</th>\n",
              "      <th>Name</th>\n",
              "      <th>Sex</th>\n",
              "      <th>Age</th>\n",
              "      <th>SibSp</th>\n",
              "      <th>Parch</th>\n",
              "      <th>Ticket</th>\n",
              "      <th>Fare</th>\n",
              "      <th>Cabin</th>\n",
              "      <th>Embarked</th>\n",
              "    </tr>\n",
              "  </thead>\n",
              "  <tbody>\n",
              "    <tr>\n",
              "      <th>0</th>\n",
              "      <td>1</td>\n",
              "      <td>0</td>\n",
              "      <td>3</td>\n",
              "      <td>Braund, Mr. Owen Harris</td>\n",
              "      <td>male</td>\n",
              "      <td>22.0</td>\n",
              "      <td>1</td>\n",
              "      <td>0</td>\n",
              "      <td>A/5 21171</td>\n",
              "      <td>7.2500</td>\n",
              "      <td>NaN</td>\n",
              "      <td>S</td>\n",
              "    </tr>\n",
              "    <tr>\n",
              "      <th>1</th>\n",
              "      <td>2</td>\n",
              "      <td>1</td>\n",
              "      <td>1</td>\n",
              "      <td>Cumings, Mrs. John Bradley (Florence Briggs Th...</td>\n",
              "      <td>female</td>\n",
              "      <td>38.0</td>\n",
              "      <td>1</td>\n",
              "      <td>0</td>\n",
              "      <td>PC 17599</td>\n",
              "      <td>71.2833</td>\n",
              "      <td>C85</td>\n",
              "      <td>C</td>\n",
              "    </tr>\n",
              "    <tr>\n",
              "      <th>2</th>\n",
              "      <td>3</td>\n",
              "      <td>1</td>\n",
              "      <td>3</td>\n",
              "      <td>Heikkinen, Miss. Laina</td>\n",
              "      <td>female</td>\n",
              "      <td>26.0</td>\n",
              "      <td>0</td>\n",
              "      <td>0</td>\n",
              "      <td>STON/O2. 3101282</td>\n",
              "      <td>7.9250</td>\n",
              "      <td>NaN</td>\n",
              "      <td>S</td>\n",
              "    </tr>\n",
              "    <tr>\n",
              "      <th>3</th>\n",
              "      <td>4</td>\n",
              "      <td>1</td>\n",
              "      <td>1</td>\n",
              "      <td>Futrelle, Mrs. Jacques Heath (Lily May Peel)</td>\n",
              "      <td>female</td>\n",
              "      <td>35.0</td>\n",
              "      <td>1</td>\n",
              "      <td>0</td>\n",
              "      <td>113803</td>\n",
              "      <td>53.1000</td>\n",
              "      <td>C123</td>\n",
              "      <td>S</td>\n",
              "    </tr>\n",
              "    <tr>\n",
              "      <th>4</th>\n",
              "      <td>5</td>\n",
              "      <td>0</td>\n",
              "      <td>3</td>\n",
              "      <td>Allen, Mr. William Henry</td>\n",
              "      <td>male</td>\n",
              "      <td>35.0</td>\n",
              "      <td>0</td>\n",
              "      <td>0</td>\n",
              "      <td>373450</td>\n",
              "      <td>8.0500</td>\n",
              "      <td>NaN</td>\n",
              "      <td>S</td>\n",
              "    </tr>\n",
              "  </tbody>\n",
              "</table>\n",
              "</div>\n",
              "      <button class=\"colab-df-convert\" onclick=\"convertToInteractive('df-64c61c3a-c503-4a65-8602-637df418d3a8')\"\n",
              "              title=\"Convert this dataframe to an interactive table.\"\n",
              "              style=\"display:none;\">\n",
              "        \n",
              "  <svg xmlns=\"http://www.w3.org/2000/svg\" height=\"24px\"viewBox=\"0 0 24 24\"\n",
              "       width=\"24px\">\n",
              "    <path d=\"M0 0h24v24H0V0z\" fill=\"none\"/>\n",
              "    <path d=\"M18.56 5.44l.94 2.06.94-2.06 2.06-.94-2.06-.94-.94-2.06-.94 2.06-2.06.94zm-11 1L8.5 8.5l.94-2.06 2.06-.94-2.06-.94L8.5 2.5l-.94 2.06-2.06.94zm10 10l.94 2.06.94-2.06 2.06-.94-2.06-.94-.94-2.06-.94 2.06-2.06.94z\"/><path d=\"M17.41 7.96l-1.37-1.37c-.4-.4-.92-.59-1.43-.59-.52 0-1.04.2-1.43.59L10.3 9.45l-7.72 7.72c-.78.78-.78 2.05 0 2.83L4 21.41c.39.39.9.59 1.41.59.51 0 1.02-.2 1.41-.59l7.78-7.78 2.81-2.81c.8-.78.8-2.07 0-2.86zM5.41 20L4 18.59l7.72-7.72 1.47 1.35L5.41 20z\"/>\n",
              "  </svg>\n",
              "      </button>\n",
              "      \n",
              "  <style>\n",
              "    .colab-df-container {\n",
              "      display:flex;\n",
              "      flex-wrap:wrap;\n",
              "      gap: 12px;\n",
              "    }\n",
              "\n",
              "    .colab-df-convert {\n",
              "      background-color: #E8F0FE;\n",
              "      border: none;\n",
              "      border-radius: 50%;\n",
              "      cursor: pointer;\n",
              "      display: none;\n",
              "      fill: #1967D2;\n",
              "      height: 32px;\n",
              "      padding: 0 0 0 0;\n",
              "      width: 32px;\n",
              "    }\n",
              "\n",
              "    .colab-df-convert:hover {\n",
              "      background-color: #E2EBFA;\n",
              "      box-shadow: 0px 1px 2px rgba(60, 64, 67, 0.3), 0px 1px 3px 1px rgba(60, 64, 67, 0.15);\n",
              "      fill: #174EA6;\n",
              "    }\n",
              "\n",
              "    [theme=dark] .colab-df-convert {\n",
              "      background-color: #3B4455;\n",
              "      fill: #D2E3FC;\n",
              "    }\n",
              "\n",
              "    [theme=dark] .colab-df-convert:hover {\n",
              "      background-color: #434B5C;\n",
              "      box-shadow: 0px 1px 3px 1px rgba(0, 0, 0, 0.15);\n",
              "      filter: drop-shadow(0px 1px 2px rgba(0, 0, 0, 0.3));\n",
              "      fill: #FFFFFF;\n",
              "    }\n",
              "  </style>\n",
              "\n",
              "      <script>\n",
              "        const buttonEl =\n",
              "          document.querySelector('#df-64c61c3a-c503-4a65-8602-637df418d3a8 button.colab-df-convert');\n",
              "        buttonEl.style.display =\n",
              "          google.colab.kernel.accessAllowed ? 'block' : 'none';\n",
              "\n",
              "        async function convertToInteractive(key) {\n",
              "          const element = document.querySelector('#df-64c61c3a-c503-4a65-8602-637df418d3a8');\n",
              "          const dataTable =\n",
              "            await google.colab.kernel.invokeFunction('convertToInteractive',\n",
              "                                                     [key], {});\n",
              "          if (!dataTable) return;\n",
              "\n",
              "          const docLinkHtml = 'Like what you see? Visit the ' +\n",
              "            '<a target=\"_blank\" href=https://colab.research.google.com/notebooks/data_table.ipynb>data table notebook</a>'\n",
              "            + ' to learn more about interactive tables.';\n",
              "          element.innerHTML = '';\n",
              "          dataTable['output_type'] = 'display_data';\n",
              "          await google.colab.output.renderOutput(dataTable, element);\n",
              "          const docLink = document.createElement('div');\n",
              "          docLink.innerHTML = docLinkHtml;\n",
              "          element.appendChild(docLink);\n",
              "        }\n",
              "      </script>\n",
              "    </div>\n",
              "  </div>\n",
              "  "
            ]
          },
          "metadata": {},
          "execution_count": 2
        }
      ]
    },
    {
      "cell_type": "code",
      "source": [
        "#Checking for null values\n",
        "train.isnull().sum()"
      ],
      "metadata": {
        "colab": {
          "base_uri": "https://localhost:8080/"
        },
        "id": "agAaqgJQjBP7",
        "outputId": "e9206bd2-ba9b-4c04-eb5b-e679361d712a"
      },
      "execution_count": 3,
      "outputs": [
        {
          "output_type": "execute_result",
          "data": {
            "text/plain": [
              "PassengerId      0\n",
              "Survived         0\n",
              "Pclass           0\n",
              "Name             0\n",
              "Sex              0\n",
              "Age            177\n",
              "SibSp            0\n",
              "Parch            0\n",
              "Ticket           0\n",
              "Fare             0\n",
              "Cabin          687\n",
              "Embarked         2\n",
              "dtype: int64"
            ]
          },
          "metadata": {},
          "execution_count": 3
        }
      ]
    },
    {
      "cell_type": "code",
      "source": [
        "#replacing the null values in the age column with the mean of the ages\n",
        "train['Age'] = train['Age'].replace(np.nan, train['Age'].mean().round(decimals=1))\n",
        "train['Age'].isnull().sum()"
      ],
      "metadata": {
        "colab": {
          "base_uri": "https://localhost:8080/"
        },
        "id": "DzQxIUlIjBSX",
        "outputId": "1ffc0c38-7949-420e-fc44-576f035fde02"
      },
      "execution_count": 4,
      "outputs": [
        {
          "output_type": "execute_result",
          "data": {
            "text/plain": [
              "0"
            ]
          },
          "metadata": {},
          "execution_count": 4
        }
      ]
    },
    {
      "cell_type": "code",
      "source": [
        "test.isnull().sum()"
      ],
      "metadata": {
        "id": "5ae1pS80jBVI",
        "colab": {
          "base_uri": "https://localhost:8080/"
        },
        "outputId": "e63e916f-8820-49c9-c54a-e6a101e87717"
      },
      "execution_count": 5,
      "outputs": [
        {
          "output_type": "execute_result",
          "data": {
            "text/plain": [
              "PassengerId      0\n",
              "Pclass           0\n",
              "Name             0\n",
              "Sex              0\n",
              "Age             86\n",
              "SibSp            0\n",
              "Parch            0\n",
              "Ticket           0\n",
              "Fare             1\n",
              "Cabin          327\n",
              "Embarked         0\n",
              "dtype: int64"
            ]
          },
          "metadata": {},
          "execution_count": 5
        }
      ]
    },
    {
      "cell_type": "code",
      "source": [
        "#replacing the null values in age with the mean of the ages in the test set\n",
        "test['Age'] = test['Age'].replace(np.nan, test['Age'].mean().round(decimals=1))\n",
        "test['Age'].isnull().sum(), train['Age'].isnull().sum()"
      ],
      "metadata": {
        "id": "fo2fTUYkjBYN",
        "colab": {
          "base_uri": "https://localhost:8080/"
        },
        "outputId": "3f0c3c3d-cb20-448c-dec2-fd392dd73367"
      },
      "execution_count": 6,
      "outputs": [
        {
          "output_type": "execute_result",
          "data": {
            "text/plain": [
              "(0, 0)"
            ]
          },
          "metadata": {},
          "execution_count": 6
        }
      ]
    },
    {
      "cell_type": "code",
      "source": [
        "#Combine test and train dataset\n",
        "train['source'] = \"train\"\n",
        "test['source'] = \"test\"\n",
        "data = pd.concat([train, test], ignore_index=True)\n",
        "print(data.shape)"
      ],
      "metadata": {
        "colab": {
          "base_uri": "https://localhost:8080/"
        },
        "id": "EsmPvVCeTYCG",
        "outputId": "b2575f77-9a39-4f80-ba74-d71e656e5de0"
      },
      "execution_count": 7,
      "outputs": [
        {
          "output_type": "stream",
          "name": "stdout",
          "text": [
            "(1309, 13)\n"
          ]
        }
      ]
    },
    {
      "cell_type": "code",
      "source": [
        "data.head(5)"
      ],
      "metadata": {
        "colab": {
          "base_uri": "https://localhost:8080/",
          "height": 285
        },
        "id": "xoWMdJDsUCjT",
        "outputId": "5dac2373-2d02-47bb-cbc7-a3e079c5dce8"
      },
      "execution_count": 8,
      "outputs": [
        {
          "output_type": "execute_result",
          "data": {
            "text/plain": [
              "   PassengerId  Survived  Pclass  \\\n",
              "0            1       0.0       3   \n",
              "1            2       1.0       1   \n",
              "2            3       1.0       3   \n",
              "3            4       1.0       1   \n",
              "4            5       0.0       3   \n",
              "\n",
              "                                                Name     Sex   Age  SibSp  \\\n",
              "0                            Braund, Mr. Owen Harris    male  22.0      1   \n",
              "1  Cumings, Mrs. John Bradley (Florence Briggs Th...  female  38.0      1   \n",
              "2                             Heikkinen, Miss. Laina  female  26.0      0   \n",
              "3       Futrelle, Mrs. Jacques Heath (Lily May Peel)  female  35.0      1   \n",
              "4                           Allen, Mr. William Henry    male  35.0      0   \n",
              "\n",
              "   Parch            Ticket     Fare Cabin Embarked source  \n",
              "0      0         A/5 21171   7.2500   NaN        S  train  \n",
              "1      0          PC 17599  71.2833   C85        C  train  \n",
              "2      0  STON/O2. 3101282   7.9250   NaN        S  train  \n",
              "3      0            113803  53.1000  C123        S  train  \n",
              "4      0            373450   8.0500   NaN        S  train  "
            ],
            "text/html": [
              "\n",
              "  <div id=\"df-6d002e3d-3bec-45a6-b48f-5312548f8627\">\n",
              "    <div class=\"colab-df-container\">\n",
              "      <div>\n",
              "<style scoped>\n",
              "    .dataframe tbody tr th:only-of-type {\n",
              "        vertical-align: middle;\n",
              "    }\n",
              "\n",
              "    .dataframe tbody tr th {\n",
              "        vertical-align: top;\n",
              "    }\n",
              "\n",
              "    .dataframe thead th {\n",
              "        text-align: right;\n",
              "    }\n",
              "</style>\n",
              "<table border=\"1\" class=\"dataframe\">\n",
              "  <thead>\n",
              "    <tr style=\"text-align: right;\">\n",
              "      <th></th>\n",
              "      <th>PassengerId</th>\n",
              "      <th>Survived</th>\n",
              "      <th>Pclass</th>\n",
              "      <th>Name</th>\n",
              "      <th>Sex</th>\n",
              "      <th>Age</th>\n",
              "      <th>SibSp</th>\n",
              "      <th>Parch</th>\n",
              "      <th>Ticket</th>\n",
              "      <th>Fare</th>\n",
              "      <th>Cabin</th>\n",
              "      <th>Embarked</th>\n",
              "      <th>source</th>\n",
              "    </tr>\n",
              "  </thead>\n",
              "  <tbody>\n",
              "    <tr>\n",
              "      <th>0</th>\n",
              "      <td>1</td>\n",
              "      <td>0.0</td>\n",
              "      <td>3</td>\n",
              "      <td>Braund, Mr. Owen Harris</td>\n",
              "      <td>male</td>\n",
              "      <td>22.0</td>\n",
              "      <td>1</td>\n",
              "      <td>0</td>\n",
              "      <td>A/5 21171</td>\n",
              "      <td>7.2500</td>\n",
              "      <td>NaN</td>\n",
              "      <td>S</td>\n",
              "      <td>train</td>\n",
              "    </tr>\n",
              "    <tr>\n",
              "      <th>1</th>\n",
              "      <td>2</td>\n",
              "      <td>1.0</td>\n",
              "      <td>1</td>\n",
              "      <td>Cumings, Mrs. John Bradley (Florence Briggs Th...</td>\n",
              "      <td>female</td>\n",
              "      <td>38.0</td>\n",
              "      <td>1</td>\n",
              "      <td>0</td>\n",
              "      <td>PC 17599</td>\n",
              "      <td>71.2833</td>\n",
              "      <td>C85</td>\n",
              "      <td>C</td>\n",
              "      <td>train</td>\n",
              "    </tr>\n",
              "    <tr>\n",
              "      <th>2</th>\n",
              "      <td>3</td>\n",
              "      <td>1.0</td>\n",
              "      <td>3</td>\n",
              "      <td>Heikkinen, Miss. Laina</td>\n",
              "      <td>female</td>\n",
              "      <td>26.0</td>\n",
              "      <td>0</td>\n",
              "      <td>0</td>\n",
              "      <td>STON/O2. 3101282</td>\n",
              "      <td>7.9250</td>\n",
              "      <td>NaN</td>\n",
              "      <td>S</td>\n",
              "      <td>train</td>\n",
              "    </tr>\n",
              "    <tr>\n",
              "      <th>3</th>\n",
              "      <td>4</td>\n",
              "      <td>1.0</td>\n",
              "      <td>1</td>\n",
              "      <td>Futrelle, Mrs. Jacques Heath (Lily May Peel)</td>\n",
              "      <td>female</td>\n",
              "      <td>35.0</td>\n",
              "      <td>1</td>\n",
              "      <td>0</td>\n",
              "      <td>113803</td>\n",
              "      <td>53.1000</td>\n",
              "      <td>C123</td>\n",
              "      <td>S</td>\n",
              "      <td>train</td>\n",
              "    </tr>\n",
              "    <tr>\n",
              "      <th>4</th>\n",
              "      <td>5</td>\n",
              "      <td>0.0</td>\n",
              "      <td>3</td>\n",
              "      <td>Allen, Mr. William Henry</td>\n",
              "      <td>male</td>\n",
              "      <td>35.0</td>\n",
              "      <td>0</td>\n",
              "      <td>0</td>\n",
              "      <td>373450</td>\n",
              "      <td>8.0500</td>\n",
              "      <td>NaN</td>\n",
              "      <td>S</td>\n",
              "      <td>train</td>\n",
              "    </tr>\n",
              "  </tbody>\n",
              "</table>\n",
              "</div>\n",
              "      <button class=\"colab-df-convert\" onclick=\"convertToInteractive('df-6d002e3d-3bec-45a6-b48f-5312548f8627')\"\n",
              "              title=\"Convert this dataframe to an interactive table.\"\n",
              "              style=\"display:none;\">\n",
              "        \n",
              "  <svg xmlns=\"http://www.w3.org/2000/svg\" height=\"24px\"viewBox=\"0 0 24 24\"\n",
              "       width=\"24px\">\n",
              "    <path d=\"M0 0h24v24H0V0z\" fill=\"none\"/>\n",
              "    <path d=\"M18.56 5.44l.94 2.06.94-2.06 2.06-.94-2.06-.94-.94-2.06-.94 2.06-2.06.94zm-11 1L8.5 8.5l.94-2.06 2.06-.94-2.06-.94L8.5 2.5l-.94 2.06-2.06.94zm10 10l.94 2.06.94-2.06 2.06-.94-2.06-.94-.94-2.06-.94 2.06-2.06.94z\"/><path d=\"M17.41 7.96l-1.37-1.37c-.4-.4-.92-.59-1.43-.59-.52 0-1.04.2-1.43.59L10.3 9.45l-7.72 7.72c-.78.78-.78 2.05 0 2.83L4 21.41c.39.39.9.59 1.41.59.51 0 1.02-.2 1.41-.59l7.78-7.78 2.81-2.81c.8-.78.8-2.07 0-2.86zM5.41 20L4 18.59l7.72-7.72 1.47 1.35L5.41 20z\"/>\n",
              "  </svg>\n",
              "      </button>\n",
              "      \n",
              "  <style>\n",
              "    .colab-df-container {\n",
              "      display:flex;\n",
              "      flex-wrap:wrap;\n",
              "      gap: 12px;\n",
              "    }\n",
              "\n",
              "    .colab-df-convert {\n",
              "      background-color: #E8F0FE;\n",
              "      border: none;\n",
              "      border-radius: 50%;\n",
              "      cursor: pointer;\n",
              "      display: none;\n",
              "      fill: #1967D2;\n",
              "      height: 32px;\n",
              "      padding: 0 0 0 0;\n",
              "      width: 32px;\n",
              "    }\n",
              "\n",
              "    .colab-df-convert:hover {\n",
              "      background-color: #E2EBFA;\n",
              "      box-shadow: 0px 1px 2px rgba(60, 64, 67, 0.3), 0px 1px 3px 1px rgba(60, 64, 67, 0.15);\n",
              "      fill: #174EA6;\n",
              "    }\n",
              "\n",
              "    [theme=dark] .colab-df-convert {\n",
              "      background-color: #3B4455;\n",
              "      fill: #D2E3FC;\n",
              "    }\n",
              "\n",
              "    [theme=dark] .colab-df-convert:hover {\n",
              "      background-color: #434B5C;\n",
              "      box-shadow: 0px 1px 3px 1px rgba(0, 0, 0, 0.15);\n",
              "      filter: drop-shadow(0px 1px 2px rgba(0, 0, 0, 0.3));\n",
              "      fill: #FFFFFF;\n",
              "    }\n",
              "  </style>\n",
              "\n",
              "      <script>\n",
              "        const buttonEl =\n",
              "          document.querySelector('#df-6d002e3d-3bec-45a6-b48f-5312548f8627 button.colab-df-convert');\n",
              "        buttonEl.style.display =\n",
              "          google.colab.kernel.accessAllowed ? 'block' : 'none';\n",
              "\n",
              "        async function convertToInteractive(key) {\n",
              "          const element = document.querySelector('#df-6d002e3d-3bec-45a6-b48f-5312548f8627');\n",
              "          const dataTable =\n",
              "            await google.colab.kernel.invokeFunction('convertToInteractive',\n",
              "                                                     [key], {});\n",
              "          if (!dataTable) return;\n",
              "\n",
              "          const docLinkHtml = 'Like what you see? Visit the ' +\n",
              "            '<a target=\"_blank\" href=https://colab.research.google.com/notebooks/data_table.ipynb>data table notebook</a>'\n",
              "            + ' to learn more about interactive tables.';\n",
              "          element.innerHTML = '';\n",
              "          dataTable['output_type'] = 'display_data';\n",
              "          await google.colab.output.renderOutput(dataTable, element);\n",
              "          const docLink = document.createElement('div');\n",
              "          docLink.innerHTML = docLinkHtml;\n",
              "          element.appendChild(docLink);\n",
              "        }\n",
              "      </script>\n",
              "    </div>\n",
              "  </div>\n",
              "  "
            ]
          },
          "metadata": {},
          "execution_count": 8
        }
      ]
    },
    {
      "cell_type": "code",
      "source": [
        "#transforming catergorical data to numerical data using the labelencoder function\n",
        "#Importing and initializing the labelencoder\n",
        "from sklearn.preprocessing import LabelEncoder\n",
        "le = LabelEncoder()"
      ],
      "metadata": {
        "id": "s4pNFuvgjBbG"
      },
      "execution_count": 9,
      "outputs": []
    },
    {
      "cell_type": "code",
      "source": [
        "data['Sex'].unique(), data['Embarked'].unique()"
      ],
      "metadata": {
        "id": "AbnrjqcGjBd-",
        "colab": {
          "base_uri": "https://localhost:8080/"
        },
        "outputId": "171c36df-d3ef-473b-8264-9f95091a6cce"
      },
      "execution_count": 10,
      "outputs": [
        {
          "output_type": "execute_result",
          "data": {
            "text/plain": [
              "(array(['male', 'female'], dtype=object),\n",
              " array(['S', 'C', 'Q', nan], dtype=object))"
            ]
          },
          "metadata": {},
          "execution_count": 10
        }
      ]
    },
    {
      "cell_type": "code",
      "source": [
        "data['Embarked'].value_counts(), data['Embarked'].mode()"
      ],
      "metadata": {
        "colab": {
          "base_uri": "https://localhost:8080/"
        },
        "id": "hA-NSF6QXiFW",
        "outputId": "40f63ec4-d186-413e-e6bf-3dd703414e96"
      },
      "execution_count": 11,
      "outputs": [
        {
          "output_type": "execute_result",
          "data": {
            "text/plain": [
              "(S    914\n",
              " C    270\n",
              " Q    123\n",
              " Name: Embarked, dtype: int64, 0    S\n",
              " dtype: object)"
            ]
          },
          "metadata": {},
          "execution_count": 11
        }
      ]
    },
    {
      "cell_type": "code",
      "source": [
        "data['Embarked'] = data['Embarked'].replace(np.nan, 'S', regex=True)"
      ],
      "metadata": {
        "id": "q9r2q1ggXor2"
      },
      "execution_count": 12,
      "outputs": []
    },
    {
      "cell_type": "code",
      "source": [
        "#transforming the sex column\n",
        "data['Sex'] = le.fit_transform(data['Sex'])\n",
        "data['Embarked'] = le.fit_transform(data['Embarked'])"
      ],
      "metadata": {
        "id": "28wlEFx9jBhT"
      },
      "execution_count": 13,
      "outputs": []
    },
    {
      "cell_type": "code",
      "source": [
        "data.head(3)"
      ],
      "metadata": {
        "id": "SgNVYPObjBpi",
        "colab": {
          "base_uri": "https://localhost:8080/",
          "height": 187
        },
        "outputId": "9aca00a0-6984-48ea-e5b7-a5e93c1437a6"
      },
      "execution_count": 14,
      "outputs": [
        {
          "output_type": "execute_result",
          "data": {
            "text/plain": [
              "   PassengerId  Survived  Pclass  \\\n",
              "0            1       0.0       3   \n",
              "1            2       1.0       1   \n",
              "2            3       1.0       3   \n",
              "\n",
              "                                                Name  Sex   Age  SibSp  Parch  \\\n",
              "0                            Braund, Mr. Owen Harris    1  22.0      1      0   \n",
              "1  Cumings, Mrs. John Bradley (Florence Briggs Th...    0  38.0      1      0   \n",
              "2                             Heikkinen, Miss. Laina    0  26.0      0      0   \n",
              "\n",
              "             Ticket     Fare Cabin  Embarked source  \n",
              "0         A/5 21171   7.2500   NaN         2  train  \n",
              "1          PC 17599  71.2833   C85         0  train  \n",
              "2  STON/O2. 3101282   7.9250   NaN         2  train  "
            ],
            "text/html": [
              "\n",
              "  <div id=\"df-797c5be6-90bc-4685-a3f3-95fa48d507e4\">\n",
              "    <div class=\"colab-df-container\">\n",
              "      <div>\n",
              "<style scoped>\n",
              "    .dataframe tbody tr th:only-of-type {\n",
              "        vertical-align: middle;\n",
              "    }\n",
              "\n",
              "    .dataframe tbody tr th {\n",
              "        vertical-align: top;\n",
              "    }\n",
              "\n",
              "    .dataframe thead th {\n",
              "        text-align: right;\n",
              "    }\n",
              "</style>\n",
              "<table border=\"1\" class=\"dataframe\">\n",
              "  <thead>\n",
              "    <tr style=\"text-align: right;\">\n",
              "      <th></th>\n",
              "      <th>PassengerId</th>\n",
              "      <th>Survived</th>\n",
              "      <th>Pclass</th>\n",
              "      <th>Name</th>\n",
              "      <th>Sex</th>\n",
              "      <th>Age</th>\n",
              "      <th>SibSp</th>\n",
              "      <th>Parch</th>\n",
              "      <th>Ticket</th>\n",
              "      <th>Fare</th>\n",
              "      <th>Cabin</th>\n",
              "      <th>Embarked</th>\n",
              "      <th>source</th>\n",
              "    </tr>\n",
              "  </thead>\n",
              "  <tbody>\n",
              "    <tr>\n",
              "      <th>0</th>\n",
              "      <td>1</td>\n",
              "      <td>0.0</td>\n",
              "      <td>3</td>\n",
              "      <td>Braund, Mr. Owen Harris</td>\n",
              "      <td>1</td>\n",
              "      <td>22.0</td>\n",
              "      <td>1</td>\n",
              "      <td>0</td>\n",
              "      <td>A/5 21171</td>\n",
              "      <td>7.2500</td>\n",
              "      <td>NaN</td>\n",
              "      <td>2</td>\n",
              "      <td>train</td>\n",
              "    </tr>\n",
              "    <tr>\n",
              "      <th>1</th>\n",
              "      <td>2</td>\n",
              "      <td>1.0</td>\n",
              "      <td>1</td>\n",
              "      <td>Cumings, Mrs. John Bradley (Florence Briggs Th...</td>\n",
              "      <td>0</td>\n",
              "      <td>38.0</td>\n",
              "      <td>1</td>\n",
              "      <td>0</td>\n",
              "      <td>PC 17599</td>\n",
              "      <td>71.2833</td>\n",
              "      <td>C85</td>\n",
              "      <td>0</td>\n",
              "      <td>train</td>\n",
              "    </tr>\n",
              "    <tr>\n",
              "      <th>2</th>\n",
              "      <td>3</td>\n",
              "      <td>1.0</td>\n",
              "      <td>3</td>\n",
              "      <td>Heikkinen, Miss. Laina</td>\n",
              "      <td>0</td>\n",
              "      <td>26.0</td>\n",
              "      <td>0</td>\n",
              "      <td>0</td>\n",
              "      <td>STON/O2. 3101282</td>\n",
              "      <td>7.9250</td>\n",
              "      <td>NaN</td>\n",
              "      <td>2</td>\n",
              "      <td>train</td>\n",
              "    </tr>\n",
              "  </tbody>\n",
              "</table>\n",
              "</div>\n",
              "      <button class=\"colab-df-convert\" onclick=\"convertToInteractive('df-797c5be6-90bc-4685-a3f3-95fa48d507e4')\"\n",
              "              title=\"Convert this dataframe to an interactive table.\"\n",
              "              style=\"display:none;\">\n",
              "        \n",
              "  <svg xmlns=\"http://www.w3.org/2000/svg\" height=\"24px\"viewBox=\"0 0 24 24\"\n",
              "       width=\"24px\">\n",
              "    <path d=\"M0 0h24v24H0V0z\" fill=\"none\"/>\n",
              "    <path d=\"M18.56 5.44l.94 2.06.94-2.06 2.06-.94-2.06-.94-.94-2.06-.94 2.06-2.06.94zm-11 1L8.5 8.5l.94-2.06 2.06-.94-2.06-.94L8.5 2.5l-.94 2.06-2.06.94zm10 10l.94 2.06.94-2.06 2.06-.94-2.06-.94-.94-2.06-.94 2.06-2.06.94z\"/><path d=\"M17.41 7.96l-1.37-1.37c-.4-.4-.92-.59-1.43-.59-.52 0-1.04.2-1.43.59L10.3 9.45l-7.72 7.72c-.78.78-.78 2.05 0 2.83L4 21.41c.39.39.9.59 1.41.59.51 0 1.02-.2 1.41-.59l7.78-7.78 2.81-2.81c.8-.78.8-2.07 0-2.86zM5.41 20L4 18.59l7.72-7.72 1.47 1.35L5.41 20z\"/>\n",
              "  </svg>\n",
              "      </button>\n",
              "      \n",
              "  <style>\n",
              "    .colab-df-container {\n",
              "      display:flex;\n",
              "      flex-wrap:wrap;\n",
              "      gap: 12px;\n",
              "    }\n",
              "\n",
              "    .colab-df-convert {\n",
              "      background-color: #E8F0FE;\n",
              "      border: none;\n",
              "      border-radius: 50%;\n",
              "      cursor: pointer;\n",
              "      display: none;\n",
              "      fill: #1967D2;\n",
              "      height: 32px;\n",
              "      padding: 0 0 0 0;\n",
              "      width: 32px;\n",
              "    }\n",
              "\n",
              "    .colab-df-convert:hover {\n",
              "      background-color: #E2EBFA;\n",
              "      box-shadow: 0px 1px 2px rgba(60, 64, 67, 0.3), 0px 1px 3px 1px rgba(60, 64, 67, 0.15);\n",
              "      fill: #174EA6;\n",
              "    }\n",
              "\n",
              "    [theme=dark] .colab-df-convert {\n",
              "      background-color: #3B4455;\n",
              "      fill: #D2E3FC;\n",
              "    }\n",
              "\n",
              "    [theme=dark] .colab-df-convert:hover {\n",
              "      background-color: #434B5C;\n",
              "      box-shadow: 0px 1px 3px 1px rgba(0, 0, 0, 0.15);\n",
              "      filter: drop-shadow(0px 1px 2px rgba(0, 0, 0, 0.3));\n",
              "      fill: #FFFFFF;\n",
              "    }\n",
              "  </style>\n",
              "\n",
              "      <script>\n",
              "        const buttonEl =\n",
              "          document.querySelector('#df-797c5be6-90bc-4685-a3f3-95fa48d507e4 button.colab-df-convert');\n",
              "        buttonEl.style.display =\n",
              "          google.colab.kernel.accessAllowed ? 'block' : 'none';\n",
              "\n",
              "        async function convertToInteractive(key) {\n",
              "          const element = document.querySelector('#df-797c5be6-90bc-4685-a3f3-95fa48d507e4');\n",
              "          const dataTable =\n",
              "            await google.colab.kernel.invokeFunction('convertToInteractive',\n",
              "                                                     [key], {});\n",
              "          if (!dataTable) return;\n",
              "\n",
              "          const docLinkHtml = 'Like what you see? Visit the ' +\n",
              "            '<a target=\"_blank\" href=https://colab.research.google.com/notebooks/data_table.ipynb>data table notebook</a>'\n",
              "            + ' to learn more about interactive tables.';\n",
              "          element.innerHTML = '';\n",
              "          dataTable['output_type'] = 'display_data';\n",
              "          await google.colab.output.renderOutput(dataTable, element);\n",
              "          const docLink = document.createElement('div');\n",
              "          docLink.innerHTML = docLinkHtml;\n",
              "          element.appendChild(docLink);\n",
              "        }\n",
              "      </script>\n",
              "    </div>\n",
              "  </div>\n",
              "  "
            ]
          },
          "metadata": {},
          "execution_count": 14
        }
      ]
    },
    {
      "cell_type": "code",
      "source": [
        "data.dtypes"
      ],
      "metadata": {
        "id": "V2_WsB2qjBsR",
        "colab": {
          "base_uri": "https://localhost:8080/"
        },
        "outputId": "b417ad96-0cd2-45be-a3f1-f5f1f8c41dc8"
      },
      "execution_count": 15,
      "outputs": [
        {
          "output_type": "execute_result",
          "data": {
            "text/plain": [
              "PassengerId      int64\n",
              "Survived       float64\n",
              "Pclass           int64\n",
              "Name            object\n",
              "Sex              int64\n",
              "Age            float64\n",
              "SibSp            int64\n",
              "Parch            int64\n",
              "Ticket          object\n",
              "Fare           float64\n",
              "Cabin           object\n",
              "Embarked         int64\n",
              "source          object\n",
              "dtype: object"
            ]
          },
          "metadata": {},
          "execution_count": 15
        }
      ]
    },
    {
      "cell_type": "code",
      "source": [
        "data['Parch'].value_counts(), data['Pclass'].value_counts(), data['SibSp'].value_counts(), data['Embarked'].value_counts()"
      ],
      "metadata": {
        "id": "D2ZJ8AeGjBvS",
        "colab": {
          "base_uri": "https://localhost:8080/"
        },
        "outputId": "4c1c8da5-1438-4de0-bc27-ef82d1c66357"
      },
      "execution_count": 16,
      "outputs": [
        {
          "output_type": "execute_result",
          "data": {
            "text/plain": [
              "(0    1002\n",
              " 1     170\n",
              " 2     113\n",
              " 3       8\n",
              " 5       6\n",
              " 4       6\n",
              " 6       2\n",
              " 9       2\n",
              " Name: Parch, dtype: int64, 3    709\n",
              " 1    323\n",
              " 2    277\n",
              " Name: Pclass, dtype: int64, 0    891\n",
              " 1    319\n",
              " 2     42\n",
              " 4     22\n",
              " 3     20\n",
              " 8      9\n",
              " 5      6\n",
              " Name: SibSp, dtype: int64, 2    916\n",
              " 0    270\n",
              " 1    123\n",
              " Name: Embarked, dtype: int64)"
            ]
          },
          "metadata": {},
          "execution_count": 16
        }
      ]
    },
    {
      "cell_type": "code",
      "source": [
        "#Performing one-hot encoding\n",
        "data = pd.get_dummies(data, columns=[\"Parch\", \"SibSp\"])"
      ],
      "metadata": {
        "id": "N8xBqcE1jByG"
      },
      "execution_count": 17,
      "outputs": []
    },
    {
      "cell_type": "code",
      "source": [
        "data.dtypes"
      ],
      "metadata": {
        "id": "jncTXxzNjB0t",
        "colab": {
          "base_uri": "https://localhost:8080/"
        },
        "outputId": "9fa17eca-b2a6-43bd-8958-c599b74be559"
      },
      "execution_count": 18,
      "outputs": [
        {
          "output_type": "execute_result",
          "data": {
            "text/plain": [
              "PassengerId      int64\n",
              "Survived       float64\n",
              "Pclass           int64\n",
              "Name            object\n",
              "Sex              int64\n",
              "Age            float64\n",
              "Ticket          object\n",
              "Fare           float64\n",
              "Cabin           object\n",
              "Embarked         int64\n",
              "source          object\n",
              "Parch_0          uint8\n",
              "Parch_1          uint8\n",
              "Parch_2          uint8\n",
              "Parch_3          uint8\n",
              "Parch_4          uint8\n",
              "Parch_5          uint8\n",
              "Parch_6          uint8\n",
              "Parch_9          uint8\n",
              "SibSp_0          uint8\n",
              "SibSp_1          uint8\n",
              "SibSp_2          uint8\n",
              "SibSp_3          uint8\n",
              "SibSp_4          uint8\n",
              "SibSp_5          uint8\n",
              "SibSp_8          uint8\n",
              "dtype: object"
            ]
          },
          "metadata": {},
          "execution_count": 18
        }
      ]
    },
    {
      "cell_type": "code",
      "source": [
        "import warnings\n",
        "warnings.filterwarnings(\"ignore\")\n",
        "\n",
        "#divide the data set\n",
        "train = data.loc[data['source'] == 'train']\n",
        "test = data.loc[data['source'] == 'test']\n",
        "#drop unnecessary columns\n",
        "test.drop([\"Name\", \"source\"], axis=1, inplace=True)\n",
        "train.drop([\"source\"], axis=1, inplace=True)\n",
        "#Export modified version of the file\n",
        "train.to_csv(\"train_mod.csv\", index=False)\n",
        "test.to_csv(\"test_mod.csv\", index=False)"
      ],
      "metadata": {
        "id": "KBq93K8JjB4E"
      },
      "execution_count": 19,
      "outputs": []
    },
    {
      "cell_type": "code",
      "source": [
        "#reading the modified files\n",
        "train_2 = pd.read_csv(\"train_mod.csv\")\n",
        "test_2 = pd.read_csv(\"test_mod.csv\")"
      ],
      "metadata": {
        "id": "kbQSUudeZJWy"
      },
      "execution_count": 20,
      "outputs": []
    },
    {
      "cell_type": "code",
      "source": [
        "#creating the independent variable X and dependent Y variable for the train set and dropping the irrelevant variables\n",
        "x_train = train_2.drop(['Name', 'Ticket', 'Fare', 'Cabin', 'Survived'], axis=1)\n",
        "y_train = train_2.Survived"
      ],
      "metadata": {
        "id": "_RoOLs1pZJZW"
      },
      "execution_count": 21,
      "outputs": []
    },
    {
      "cell_type": "code",
      "source": [
        "#dropping the irrelevant variables for x_test\n",
        "x_test = test_2.drop(['Ticket', 'Fare', 'Cabin', 'Survived'], axis=1)"
      ],
      "metadata": {
        "id": "UABQfJv3ZJb5"
      },
      "execution_count": 23,
      "outputs": []
    },
    {
      "cell_type": "code",
      "source": [
        "#test split\n",
        "from sklearn.model_selection import train_test_split\n",
        "\n",
        "xtrain, xtest, ytrain, ytest = train_test_split(x_train, y_train, test_size=0.3, random_state=42) "
      ],
      "metadata": {
        "id": "olYmE5EBZJeV"
      },
      "execution_count": 24,
      "outputs": []
    },
    {
      "cell_type": "code",
      "source": [
        "#initializing the LinearRegression function\n",
        "#fitting the x_train and y_train\n",
        "lrg = LinearRegression()\n",
        "\n",
        "lrg.fit(xtrain, ytrain)"
      ],
      "metadata": {
        "colab": {
          "base_uri": "https://localhost:8080/"
        },
        "id": "I7QptASkdVwN",
        "outputId": "002a1e7d-1e5b-4682-e105-26e39326ea29"
      },
      "execution_count": 25,
      "outputs": [
        {
          "output_type": "execute_result",
          "data": {
            "text/plain": [
              "LinearRegression()"
            ]
          },
          "metadata": {},
          "execution_count": 25
        }
      ]
    },
    {
      "cell_type": "code",
      "source": [
        "#finding the coefficient and intercept of the line\n",
        "print(lrg.coef_)\n",
        "print(lrg.intercept_)"
      ],
      "metadata": {
        "colab": {
          "base_uri": "https://localhost:8080/"
        },
        "id": "T0D9EjuadVzJ",
        "outputId": "e6a4a251-a359-49e7-c8ce-d143dd84811b"
      },
      "execution_count": 26,
      "outputs": [
        {
          "output_type": "stream",
          "name": "stdout",
          "text": [
            "[ 3.00053641e-05 -1.46350956e-01 -4.95596516e-01 -4.07030302e-03\n",
            " -4.81491519e-02  1.29095732e-01  2.39451695e-01  1.56947213e-01\n",
            "  4.44971763e-01 -3.17190283e-01 -2.46291724e-01 -4.06984396e-01\n",
            " -8.32667268e-17  1.60414705e-01  1.64405089e-01  1.12578411e-01\n",
            " -1.49804532e-01  3.23764626e-03 -1.26287409e-01 -1.64543910e-01]\n",
            "0.9325798672369241\n"
          ]
        }
      ]
    },
    {
      "cell_type": "code",
      "source": [
        "#predict the test result of the test data\n",
        "preds = lrg.predict(xtest)\n",
        "preds"
      ],
      "metadata": {
        "colab": {
          "base_uri": "https://localhost:8080/"
        },
        "id": "w1WMHdaLdV2M",
        "outputId": "b6e3c333-049c-4afa-9b96-8e5892bc686f"
      },
      "execution_count": 27,
      "outputs": [
        {
          "output_type": "execute_result",
          "data": {
            "text/plain": [
              "array([ 0.30220307,  0.22451654,  0.13497107,  0.9406581 ,  0.73124379,\n",
              "        0.88234473,  0.6230319 ,  0.08820326,  0.67603456,  0.9340675 ,\n",
              "        0.34137444,  0.03296302,  0.38057046,  0.17268314,  0.20131451,\n",
              "        1.05029674,  0.33554552,  0.63362379,  0.25421015,  0.29587088,\n",
              "        0.10230692,  0.35889663,  0.61918479,  0.13023022,  0.08642751,\n",
              "       -0.10732377,  0.41826088,  0.23153779, -0.10558601,  0.57247187,\n",
              "        0.14015157,  0.60145323,  0.48307909,  0.5729324 ,  0.12402826,\n",
              "        0.20016645,  0.37059617,  0.61997135,  0.97892478,  0.09245858,\n",
              "        0.20781156,  0.09143678,  0.09539911,  0.14213801,  0.72112171,\n",
              "        0.44849465,  0.11584722,  0.10805753,  0.09978647,  0.39172028,\n",
              "        0.838678  ,  0.90676604, -0.4031332 ,  0.49500737, -0.01684642,\n",
              "        0.95161021,  0.20937426,  0.99158177,  0.69699062,  0.65890277,\n",
              "        0.11793845,  0.90394451,  0.73592428,  0.36802743,  0.12431482,\n",
              "        0.62427696,  0.2542076 ,  0.0857961 ,  0.34858497,  0.88583715,\n",
              "        0.85100024,  0.99185075,  0.50101973,  1.05642836,  0.12255012,\n",
              "        0.06678534,  0.63378816,  1.03024706,  0.68916049,  0.55535956,\n",
              "        0.0872081 ,  0.71706166,  1.03687529,  0.14177795,  0.3574568 ,\n",
              "        0.30597397,  0.9600315 ,  0.96293192,  0.35386743,  0.07778596,\n",
              "        0.18734226,  0.53704373,  0.2543394 ,  0.13007585,  0.07256503,\n",
              "        0.08563564,  0.31385419,  0.0181508 ,  0.69640094,  0.09090616,\n",
              "        0.23972806,  0.06641518,  1.01115554,  0.0504536 ,  0.09145274,\n",
              "        0.1066678 ,  0.80475791,  0.30643277,  0.07764506,  0.42363184,\n",
              "        0.88264702,  0.11454263,  0.98434629,  0.35270637,  0.37879936,\n",
              "        0.13605126,  0.29406184,  0.29605254,  0.86761151,  0.83334495,\n",
              "        0.32229911,  0.95206083,  0.73528382,  0.36433712,  0.11296926,\n",
              "        0.45583547,  0.80391047,  0.48665631,  0.68351293,  0.12051891,\n",
              "        0.62480221,  0.28287962,  0.23106816,  0.68973179,  0.40269159,\n",
              "        0.75090773,  0.964063  ,  0.08006507,  0.04557443,  0.61896433,\n",
              "        0.12525975,  0.68364172,  0.23381693,  0.20873593,  0.22734376,\n",
              "        0.82155837,  0.22180563,  0.06987375,  0.9598019 ,  0.03619317,\n",
              "        0.18410606,  0.1089081 ,  0.13855086,  0.62129126,  0.07259503,\n",
              "        0.0886179 ,  0.08957807,  0.61649073,  0.70612235,  0.73872846,\n",
              "        0.20070039,  0.37819925,  0.20302609,  0.97012375,  0.1185838 ,\n",
              "        0.42757939,  0.25584874,  0.87628588,  0.11725875,  0.05960396,\n",
              "        0.59982235,  0.80021836,  0.35450669,  0.88634563,  0.13496979,\n",
              "        0.18977707,  0.16145068,  0.76644539,  0.78513433,  0.30860752,\n",
              "        0.26590054,  0.07238497,  0.1104589 ,  0.5574161 ,  0.59638216,\n",
              "        0.31679377,  0.33060541,  0.07115478,  0.36463683,  0.68812201,\n",
              "        0.17684125,  0.21037486,  0.14760172,  0.07556427,  0.74773229,\n",
              "        0.85558343,  0.94258168,  0.22313757,  0.93770047,  0.52893313,\n",
              "       -0.04733412,  0.58068291,  0.84853232,  0.44483264,  0.22892895,\n",
              "        0.70602378,  0.09452766,  0.38088758,  0.18143558,  0.00212005,\n",
              "        0.50943816,  0.08001549,  0.9096528 ,  0.13247628,  0.37829006,\n",
              "       -0.01662122,  0.86311198,  0.48759418,  0.8681232 ,  0.0830369 ,\n",
              "        0.07331516,  0.74140389,  0.24497579,  0.37192813,  0.11593979,\n",
              "        0.77069563,  0.11596852,  0.52112335,  0.7489049 ,  0.58100127,\n",
              "        0.21527583,  0.99257216,  0.12623517,  0.67319141,  0.07502547,\n",
              "        0.61384544,  0.75198671,  0.63381731,  0.91621866,  0.17244881,\n",
              "        0.12289848,  0.67912007,  0.18224572,  0.61748524,  0.17233999,\n",
              "        0.08785604,  0.08420711,  0.12014969,  0.10798709,  0.28569118,\n",
              "        0.56703047,  0.22124979,  0.13127607,  0.19972458,  0.25232663,\n",
              "        0.10539875,  0.11926911,  0.79883008,  0.19894409,  0.7230624 ,\n",
              "        0.91116818,  0.39697099,  0.68068983,  0.10590884,  0.38197993,\n",
              "        0.23298728,  0.13698015,  0.38280836])"
            ]
          },
          "metadata": {},
          "execution_count": 27
        }
      ]
    },
    {
      "cell_type": "code",
      "source": [
        "import math\n",
        "print(math.sqrt(mean_squared_error(ytest, preds)))"
      ],
      "metadata": {
        "colab": {
          "base_uri": "https://localhost:8080/"
        },
        "id": "0-DIXkOxZJhq",
        "outputId": "0ef4a774-0692-444c-c15d-9e9879d8d35a"
      },
      "execution_count": 28,
      "outputs": [
        {
          "output_type": "stream",
          "name": "stdout",
          "text": [
            "0.3736364597342136\n"
          ]
        }
      ]
    },
    {
      "cell_type": "code",
      "source": [
        "y_Survived_preds = lrg.predict(x_test)\n",
        "y_Survived_preds"
      ],
      "metadata": {
        "colab": {
          "base_uri": "https://localhost:8080/"
        },
        "id": "C8fvNHprgN9i",
        "outputId": "b0b2811c-9141-4897-cf15-69547aaf2722"
      },
      "execution_count": 29,
      "outputs": [
        {
          "output_type": "execute_result",
          "data": {
            "text/plain": [
              "array([ 0.1256311 ,  0.52622006,  0.16010873,  0.10809923,  0.73842362,\n",
              "        0.16107318,  0.63972401,  0.37298686,  0.73677681,  0.08486479,\n",
              "        0.09487727,  0.32370543,  0.91693931,  0.11220972,  0.81931205,\n",
              "        0.86290637,  0.27042699,  0.22923943,  0.60813621,  0.62720869,\n",
              "        0.38763144,  0.29226075,  0.88353577,  0.63247734,  1.22771613,\n",
              "        0.01913277,  1.12409357,  0.22343403,  0.34456704,  0.14390938,\n",
              "        0.16563375,  0.21966496,  0.61198595,  0.62300578,  0.48980909,\n",
              "        0.23995529,  0.59125393,  0.62913775,  0.11729003,  0.09574743,\n",
              "        0.26702006,  0.38850935,  0.0522852 ,  0.73903601,  0.82835281,\n",
              "        0.11750007,  0.42512423,  0.14413662,  0.85972621,  0.59629475,\n",
              "        0.41841269,  0.35218875,  0.84252876,  0.61145987,  0.33884677,\n",
              "        0.18018272,  0.07712709,  0.11786013,  0.10030791,  0.95774354,\n",
              "        0.15051257,  0.23583899,  0.14650228,  0.67399674,  0.53592921,\n",
              "        0.73847504,  0.69036797,  0.32131543,  0.48276859,  0.32176239,\n",
              "        0.66606617,  0.13456142,  0.59762551,  0.49309437,  0.96226392,\n",
              "        0.47687317,  0.09685763,  0.73681328,  0.24448968,  0.66633622,\n",
              "        0.40653066,  0.24431983,  0.3136249 ,  0.09706766,  0.29159778,\n",
              "        0.19741636,  0.65433535,  0.64284893,  0.64096336,  0.47313457,\n",
              "        0.63064812,  0.09730771,  0.93091001,  0.09736772,  0.50797055,\n",
              "        0.11900033,  0.7037337 ,  0.10277913,  0.63503838,  0.08655793,\n",
              "        0.93447202,  0.2613811 ,  0.14578692,  0.11517007,  0.86214428,\n",
              "        0.10708948,  0.18376076,  0.14593694,  0.0978178 ,  0.29222833,\n",
              "        0.29697483,  0.64165348,  0.95933382,  0.68974307,  0.75718773,\n",
              "        0.24838125,  0.19435614,  0.82729059,  0.46391734,  0.74937711,\n",
              "        0.81461188,  0.1503474 ,  0.96769457,  0.10762957,  0.14644704,\n",
              "        0.7584154 ,  0.13214141,  0.59429727,  0.19714632,  0.12409082,\n",
              "        0.0915584 ,  0.39511226,  0.14784843,  0.19885662,  0.04690509,\n",
              "        0.12427085,  0.2104234 ,  0.26254121,  0.62402769, -0.47282372,\n",
              "        0.418151  ,  0.87611659,  0.68274631,  0.25458064,  0.34397736,\n",
              "       -0.21414045,  0.39165991,  0.13277152,  0.39171992,  0.36096641,\n",
              "        1.12374393,  0.19540633, -0.02378512,  0.59941531,  0.04028871,\n",
              "        0.12487096,  0.89284788,  0.62459779,  0.34439743,  0.64029837,\n",
              "        0.64312374,  0.40489079,  0.75888786,  0.09946809,  0.20229681,\n",
              "        0.72697327,  0.41651396,  0.12966803,  0.98421485,  0.62902816,\n",
              "        0.09967813,  0.20943844,  0.13344174,  0.19606645, -0.31108086,\n",
              "        0.83190275,  0.78372976,  0.39641259,  1.03454095,  0.87522718,\n",
              "        0.24755023,  0.57608372,  0.94239173,  0.14821735,  1.11247329,\n",
              "        0.20699723,  0.89031547,  0.10648696,  0.29870761,  0.20711725,\n",
              "        0.23555946,  0.39301016,  0.29120629,  0.16991006,  0.36536845,\n",
              "        0.08943845,  0.61621833,  0.64614952,  0.27658245,  0.5961448 ,\n",
              "        0.64432396,  0.25044676,  0.42565484,  0.94772988,  0.26862187,\n",
              "        0.48972853,  0.62537357,  0.27278219,  0.97442525,  0.12242095,\n",
              "        0.09395883,  0.10090835,  0.30142434,  0.62601822,  0.43592797,\n",
              "        0.34610774,  0.64480405,  0.39945955,  1.0198765 ,  0.10114839,\n",
              "        0.84463565,  0.13906222,  0.7769694 ,  0.13912223,  0.89349927,\n",
              "        0.72107473,  0.13107164,  0.6451341 ,  0.05990135,  0.22459868,\n",
              "        0.31417535,  0.9276607 ,  0.14338266,  0.14971762,  0.45917744,\n",
              "        0.1435526 ,  0.35747987,  0.23991091,  0.90807704,  0.91829125,\n",
              "        0.88583875,  0.71177401,  0.54535163,  0.10186852,  0.13374039,\n",
              "        0.35506859,  0.77768953,  0.3150633 ,  0.7532478 ,  0.69793376,\n",
              "        0.8954534 ,  0.14403269,  0.50856117,  0.12781148,  0.09324391,\n",
              "        0.10222859,  0.15040774,  0.11165029,  0.7902605 ,  0.14020243,\n",
              "        0.08113312,  0.14026244,  0.77752897,  0.83167137,  0.34636899,\n",
              "        0.10252864,  0.39526056,  0.10258865,  0.59821517,  0.15678369,\n",
              "        0.42777513,  0.15085782,  1.0088281 ,  0.65050473,  0.19909699,\n",
              "        0.79069067,  0.25857135,  0.2137481 ,  0.25448114,  0.28308319,\n",
              "        0.62828845,  0.33763253,  0.6467844 ,  0.89600736,  0.82823118,\n",
              "        0.07992802,  0.10315875,  0.42552396,  0.19951707,  0.10324877,\n",
              "        0.39598069,  0.64827554,  0.19963709,  0.41802117,  0.08019807,\n",
              "        0.1209311 ,  0.99280633,  0.15195082,  0.39744182,  0.10884022,\n",
              "        0.09665931,  0.34625809,  0.30865291,  0.12931175,  0.64744452,\n",
              "        0.86920442,  0.42952373,  0.33409666,  0.41033065,  0.54360232,\n",
              "        0.15394361,  0.23399071,  0.10393889,  0.62044354,  0.88805915,\n",
              "        0.70190961,  0.38837242,  0.2964343 ,  0.11755092,  0.23644711,\n",
              "        0.12168124,  0.22207985,  0.2680922 ,  0.38598105,  0.85718575,\n",
              "        0.13404217,  0.88331265,  0.42948543,  0.26005171,  0.28865376,\n",
              "        0.70223358,  0.45809757,  0.2008373 ,  0.8568046 ,  0.11803101,\n",
              "        0.39855202,  0.24409046,  0.19342717,  0.27264259,  0.20104734,\n",
              "        0.30119473,  0.09788953, -0.0202663 ,  0.98707436,  0.21924541,\n",
              "        0.65873092,  0.26881233,  0.66554257,  0.27701295,  0.74414735,\n",
              "        1.04019834,  0.27303266,  0.30155479,  0.20724727,  0.75527573,\n",
              "        0.31774607,  0.72890357,  0.10528913,  0.15346829,  0.60615713,\n",
              "       -0.1274172 ,  0.98364419,  0.74453742,  0.11890117,  1.01565889,\n",
              "        0.47602034,  0.20584787,  0.63496922,  1.04073843,  0.35358985,\n",
              "        0.29387436,  0.98745673,  0.32232646,  0.19635702,  0.91197782,\n",
              "        0.93059251,  0.58740297,  0.29009401,  0.29808467,  0.07960234,\n",
              "        0.15412841,  0.17166072,  0.60163578,  0.6516506 ,  0.25245023,\n",
              "        0.80556153,  0.1318022 ,  0.14386316,  0.19222227,  0.00529439,\n",
              "        0.42869443,  0.92070844,  0.20460704,  0.18474622, -0.08817255,\n",
              "        0.94878288,  0.1802514 ,  1.03338806,  0.14030287,  0.1518493 ,\n",
              "        0.89609888,  0.22560938,  1.13537559,  0.45350632,  0.44799714,\n",
              "        0.39130277,  0.28681395,  0.529951  ,  0.65056508,  0.82791155,\n",
              "        0.65062509,  0.92007636,  0.61189764,  0.10696943,  0.95618454,\n",
              "        0.07365296,  0.10705945,  0.31773411])"
            ]
          },
          "metadata": {},
          "execution_count": 29
        }
      ]
    },
    {
      "cell_type": "code",
      "source": [
        "predictions = pd.DataFrame({'PassengerId':test_2['PassengerId'],\n",
        "                            'Survived':y_Survived_preds}, columns=['PassengerId','Survived'])\n",
        "predictions['Survived'] = predictions['Survived'].round(0).astype(int)"
      ],
      "metadata": {
        "id": "XtHtK4N0h-ML"
      },
      "execution_count": 34,
      "outputs": []
    },
    {
      "cell_type": "code",
      "source": [
        "predictions"
      ],
      "metadata": {
        "colab": {
          "base_uri": "https://localhost:8080/",
          "height": 424
        },
        "id": "OkD9ahe3jc4E",
        "outputId": "c5acbd31-0616-48a4-ecaa-d78af9401250"
      },
      "execution_count": 35,
      "outputs": [
        {
          "output_type": "execute_result",
          "data": {
            "text/plain": [
              "     PassengerId  Survived\n",
              "0            892         0\n",
              "1            893         1\n",
              "2            894         0\n",
              "3            895         0\n",
              "4            896         1\n",
              "..           ...       ...\n",
              "413         1305         0\n",
              "414         1306         1\n",
              "415         1307         0\n",
              "416         1308         0\n",
              "417         1309         0\n",
              "\n",
              "[418 rows x 2 columns]"
            ],
            "text/html": [
              "\n",
              "  <div id=\"df-b175a65e-26e7-4099-939b-8c50dedc2a8d\">\n",
              "    <div class=\"colab-df-container\">\n",
              "      <div>\n",
              "<style scoped>\n",
              "    .dataframe tbody tr th:only-of-type {\n",
              "        vertical-align: middle;\n",
              "    }\n",
              "\n",
              "    .dataframe tbody tr th {\n",
              "        vertical-align: top;\n",
              "    }\n",
              "\n",
              "    .dataframe thead th {\n",
              "        text-align: right;\n",
              "    }\n",
              "</style>\n",
              "<table border=\"1\" class=\"dataframe\">\n",
              "  <thead>\n",
              "    <tr style=\"text-align: right;\">\n",
              "      <th></th>\n",
              "      <th>PassengerId</th>\n",
              "      <th>Survived</th>\n",
              "    </tr>\n",
              "  </thead>\n",
              "  <tbody>\n",
              "    <tr>\n",
              "      <th>0</th>\n",
              "      <td>892</td>\n",
              "      <td>0</td>\n",
              "    </tr>\n",
              "    <tr>\n",
              "      <th>1</th>\n",
              "      <td>893</td>\n",
              "      <td>1</td>\n",
              "    </tr>\n",
              "    <tr>\n",
              "      <th>2</th>\n",
              "      <td>894</td>\n",
              "      <td>0</td>\n",
              "    </tr>\n",
              "    <tr>\n",
              "      <th>3</th>\n",
              "      <td>895</td>\n",
              "      <td>0</td>\n",
              "    </tr>\n",
              "    <tr>\n",
              "      <th>4</th>\n",
              "      <td>896</td>\n",
              "      <td>1</td>\n",
              "    </tr>\n",
              "    <tr>\n",
              "      <th>...</th>\n",
              "      <td>...</td>\n",
              "      <td>...</td>\n",
              "    </tr>\n",
              "    <tr>\n",
              "      <th>413</th>\n",
              "      <td>1305</td>\n",
              "      <td>0</td>\n",
              "    </tr>\n",
              "    <tr>\n",
              "      <th>414</th>\n",
              "      <td>1306</td>\n",
              "      <td>1</td>\n",
              "    </tr>\n",
              "    <tr>\n",
              "      <th>415</th>\n",
              "      <td>1307</td>\n",
              "      <td>0</td>\n",
              "    </tr>\n",
              "    <tr>\n",
              "      <th>416</th>\n",
              "      <td>1308</td>\n",
              "      <td>0</td>\n",
              "    </tr>\n",
              "    <tr>\n",
              "      <th>417</th>\n",
              "      <td>1309</td>\n",
              "      <td>0</td>\n",
              "    </tr>\n",
              "  </tbody>\n",
              "</table>\n",
              "<p>418 rows × 2 columns</p>\n",
              "</div>\n",
              "      <button class=\"colab-df-convert\" onclick=\"convertToInteractive('df-b175a65e-26e7-4099-939b-8c50dedc2a8d')\"\n",
              "              title=\"Convert this dataframe to an interactive table.\"\n",
              "              style=\"display:none;\">\n",
              "        \n",
              "  <svg xmlns=\"http://www.w3.org/2000/svg\" height=\"24px\"viewBox=\"0 0 24 24\"\n",
              "       width=\"24px\">\n",
              "    <path d=\"M0 0h24v24H0V0z\" fill=\"none\"/>\n",
              "    <path d=\"M18.56 5.44l.94 2.06.94-2.06 2.06-.94-2.06-.94-.94-2.06-.94 2.06-2.06.94zm-11 1L8.5 8.5l.94-2.06 2.06-.94-2.06-.94L8.5 2.5l-.94 2.06-2.06.94zm10 10l.94 2.06.94-2.06 2.06-.94-2.06-.94-.94-2.06-.94 2.06-2.06.94z\"/><path d=\"M17.41 7.96l-1.37-1.37c-.4-.4-.92-.59-1.43-.59-.52 0-1.04.2-1.43.59L10.3 9.45l-7.72 7.72c-.78.78-.78 2.05 0 2.83L4 21.41c.39.39.9.59 1.41.59.51 0 1.02-.2 1.41-.59l7.78-7.78 2.81-2.81c.8-.78.8-2.07 0-2.86zM5.41 20L4 18.59l7.72-7.72 1.47 1.35L5.41 20z\"/>\n",
              "  </svg>\n",
              "      </button>\n",
              "      \n",
              "  <style>\n",
              "    .colab-df-container {\n",
              "      display:flex;\n",
              "      flex-wrap:wrap;\n",
              "      gap: 12px;\n",
              "    }\n",
              "\n",
              "    .colab-df-convert {\n",
              "      background-color: #E8F0FE;\n",
              "      border: none;\n",
              "      border-radius: 50%;\n",
              "      cursor: pointer;\n",
              "      display: none;\n",
              "      fill: #1967D2;\n",
              "      height: 32px;\n",
              "      padding: 0 0 0 0;\n",
              "      width: 32px;\n",
              "    }\n",
              "\n",
              "    .colab-df-convert:hover {\n",
              "      background-color: #E2EBFA;\n",
              "      box-shadow: 0px 1px 2px rgba(60, 64, 67, 0.3), 0px 1px 3px 1px rgba(60, 64, 67, 0.15);\n",
              "      fill: #174EA6;\n",
              "    }\n",
              "\n",
              "    [theme=dark] .colab-df-convert {\n",
              "      background-color: #3B4455;\n",
              "      fill: #D2E3FC;\n",
              "    }\n",
              "\n",
              "    [theme=dark] .colab-df-convert:hover {\n",
              "      background-color: #434B5C;\n",
              "      box-shadow: 0px 1px 3px 1px rgba(0, 0, 0, 0.15);\n",
              "      filter: drop-shadow(0px 1px 2px rgba(0, 0, 0, 0.3));\n",
              "      fill: #FFFFFF;\n",
              "    }\n",
              "  </style>\n",
              "\n",
              "      <script>\n",
              "        const buttonEl =\n",
              "          document.querySelector('#df-b175a65e-26e7-4099-939b-8c50dedc2a8d button.colab-df-convert');\n",
              "        buttonEl.style.display =\n",
              "          google.colab.kernel.accessAllowed ? 'block' : 'none';\n",
              "\n",
              "        async function convertToInteractive(key) {\n",
              "          const element = document.querySelector('#df-b175a65e-26e7-4099-939b-8c50dedc2a8d');\n",
              "          const dataTable =\n",
              "            await google.colab.kernel.invokeFunction('convertToInteractive',\n",
              "                                                     [key], {});\n",
              "          if (!dataTable) return;\n",
              "\n",
              "          const docLinkHtml = 'Like what you see? Visit the ' +\n",
              "            '<a target=\"_blank\" href=https://colab.research.google.com/notebooks/data_table.ipynb>data table notebook</a>'\n",
              "            + ' to learn more about interactive tables.';\n",
              "          element.innerHTML = '';\n",
              "          dataTable['output_type'] = 'display_data';\n",
              "          await google.colab.output.renderOutput(dataTable, element);\n",
              "          const docLink = document.createElement('div');\n",
              "          docLink.innerHTML = docLinkHtml;\n",
              "          element.appendChild(docLink);\n",
              "        }\n",
              "      </script>\n",
              "    </div>\n",
              "  </div>\n",
              "  "
            ]
          },
          "metadata": {},
          "execution_count": 35
        }
      ]
    },
    {
      "cell_type": "code",
      "source": [
        "#Exporting prediction file\n",
        "predictions.to_csv(\"predictions.csv\", index=False)"
      ],
      "metadata": {
        "id": "1n14mBb5lSHy"
      },
      "execution_count": 36,
      "outputs": []
    }
  ]
}